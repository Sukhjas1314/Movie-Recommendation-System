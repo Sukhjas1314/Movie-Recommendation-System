{
 "cells": [
  {
   "cell_type": "markdown",
   "metadata": {},
   "source": [
    "# Movie Recommendation System (Content-based system)"
   ]
  },
  {
   "cell_type": "markdown",
   "metadata": {},
   "source": [
    "### Importing libraries "
   ]
  },
  {
   "cell_type": "code",
   "execution_count": 1,
   "metadata": {},
   "outputs": [],
   "source": [
    "import pandas as pd\n",
    "import numpy as np\n",
    "import difflib\n",
    "from scipy.sparse import csr_matrix\n",
    "from sklearn.neighbors import NearestNeighbors, KNeighborsClassifier\n",
    "from sklearn.model_selection import train_test_split\n",
    "from sklearn.svm import SVC\n",
    "from sklearn.metrics import precision_score, recall_score, confusion_matrix, classification_report,accuracy_score\n",
    "import matplotlib.pyplot as plt\n",
    "import seaborn as sns\n",
    "import statistics "
   ]
  },
  {
   "cell_type": "markdown",
   "metadata": {},
   "source": [
    "### Importing datsets & Data Preprocessing"
   ]
  },
  {
   "cell_type": "code",
   "execution_count": 2,
   "metadata": {},
   "outputs": [],
   "source": [
    "def load_and_preprocess_data():\n",
    "    try:\n",
    "        # Load data\n",
    "        movies = pd.read_csv(\"movies.csv\")\n",
    "        ratings = pd.read_csv(\"ratings.csv\")\n",
    "\n",
    "        # Pivot ratings to create user-movie matrix\n",
    "        final_dataset = ratings.pivot_table(index='movieId', columns='userId', values='rating')\n",
    "        final_dataset.fillna(0, inplace=True)\n",
    "\n",
    "        # Filter out movies and users with low vote counts\n",
    "        no_movies_voted = ratings.groupby('userId')['rating'].count()\n",
    "        final_dataset = final_dataset.loc[:, no_movies_voted[no_movies_voted > 50].index]\n",
    "        final_dataset = final_dataset.reset_index()\n",
    "\n",
    "        return movies, ratings, final_dataset\n",
    "\n",
    "    except FileNotFoundError:\n",
    "        print(\"Error: movies.csv or ratings.csv not found. Please ensure files are in the correct directory.\")\n",
    "        return None, None, None"
   ]
  },
  {
   "cell_type": "markdown",
   "metadata": {},
   "source": [
    "### Function to get recommended movies"
   ]
  },
  {
   "cell_type": "code",
   "execution_count": 3,
   "metadata": {},
   "outputs": [],
   "source": [
    "def create_recommendation_model(final_dataset):\n",
    "    csr_data = csr_matrix(final_dataset.iloc[:, 1:].values)\n",
    "    knn = NearestNeighbors(metric='cosine', algorithm='brute', n_neighbors=20, n_jobs=-1)\n",
    "    knn.fit(csr_data)\n",
    "    return knn, csr_data"
   ]
  },
  {
   "cell_type": "markdown",
   "metadata": {},
   "source": [
    "### Training datasets with K-NN & SVM models"
   ]
  },
  {
   "cell_type": "code",
   "execution_count": 4,
   "metadata": {},
   "outputs": [],
   "source": [
    "def train_models(final_dataset):\n",
    "    X = final_dataset.iloc[:, 1:].values\n",
    "    y = np.random.randint(0, 2, size=len(X))  # Simulated binary labels\n",
    "    \n",
    "    X_train, X_test, y_train, y_test = train_test_split(X, y, test_size=0.2, random_state=42)\n",
    "    \n",
    "    # Train SVM\n",
    "    svm_model = SVC()\n",
    "    svm_model.fit(X_train, y_train)\n",
    "    y_pred_svm = svm_model.predict(X_test)\n",
    "    \n",
    "    precision_svm = precision_score(y_test, y_pred_svm, zero_division=1)\n",
    "    recall_svm = recall_score(y_test, y_pred_svm, zero_division=1)\n",
    "    accuracy_svm = accuracy_score(y_test, y_pred_svm)\n",
    "    \n",
    "    print(\"SVM model -: \")\n",
    "    print(f\"Precision: {precision_svm:.4f}, Recall: {recall_svm:.4f}, Accuracy_score : {accuracy_svm:.4f}\")\n",
    "    print(\"\\n\")\n",
    "    \n",
    "    # Train KNN\n",
    "    knn_model = KNeighborsClassifier(n_neighbors=5)\n",
    "    knn_model.fit(X_train, y_train)\n",
    "    y_pred_knn = knn_model.predict(X_test)\n",
    "    \n",
    "    precision_knn = precision_score(y_test, y_pred_knn, zero_division=1)\n",
    "    recall_knn = recall_score(y_test, y_pred_knn, zero_division=1)\n",
    "    accuracy_knn = accuracy_score(y_test, y_pred_knn)\n",
    "    \n",
    "    print(\"K-NN model -:\")\n",
    "    print(f\"Precision: {precision_knn:.4f}, Recall: {recall_knn:.4f}, Accuracy_score : {accuracy_knn:.4f}\")\n",
    "    print(\"\\n\")\n",
    "    \n",
    "    return svm_model, knn_model"
   ]
  },
  {
   "cell_type": "markdown",
   "metadata": {},
   "source": [
    "### Visualisations of the result "
   ]
  },
  {
   "cell_type": "code",
   "execution_count": 5,
   "metadata": {},
   "outputs": [],
   "source": [
    "def visualize_model_performance(y_test, y_pred_svm, y_pred_knn):\n",
    "    fig, axes = plt.subplots(1, 3, figsize=(18, 5))\n",
    "    \n",
    "    cm_svm = confusion_matrix(y_test, y_pred_svm)\n",
    "    sns.heatmap(cm_svm, annot=True, fmt='d', cmap='Blues', ax=axes[0])\n",
    "    axes[0].set_title(\"SVM Confusion Matrix\")\n",
    "    axes[0].set_xlabel(\"Predicted\")\n",
    "    axes[0].set_ylabel(\"Actual\")\n",
    "    \n",
    "    cm_knn = confusion_matrix(y_test, y_pred_knn)\n",
    "    sns.heatmap(cm_knn, annot=True, fmt='d', cmap='Greens', ax=axes[1])\n",
    "    axes[1].set_title(\"KNN Confusion Matrix\")\n",
    "    axes[1].set_xlabel(\"Predicted\")\n",
    "    axes[1].set_ylabel(\"Actual\")\n",
    "    \n",
    "    precision_svm = precision_score(y_test, y_pred_svm, zero_division=1)\n",
    "    recall_svm = recall_score(y_test, y_pred_svm, zero_division=1)\n",
    "    accuracy_svm = accuracy_score(y_test, y_pred_svm)\n",
    "    \n",
    "    precision_knn = precision_score(y_test, y_pred_knn, zero_division=1)\n",
    "    recall_knn = recall_score(y_test, y_pred_knn, zero_division=1)\n",
    "    accuracy_knn = accuracy_score(y_test, y_pred_knn)\n",
    "    \n",
    "    metrics_df = pd.DataFrame({\n",
    "        \"Model\": [\"SVM\", \"KNN\"],\n",
    "        \"Precision\": [precision_svm, precision_knn],\n",
    "        \"Recall\": [recall_svm, recall_knn],\n",
    "        \"Accuracy\": [accuracy_svm, accuracy_knn]\n",
    "    })\n",
    "    metrics_df.set_index(\"Model\", inplace=True)\n",
    "    metrics_df.plot(kind='bar', ax=axes[2], colormap='viridis', alpha=0.75)\n",
    "    axes[2].set_title(\"Model Performance Comparison\")\n",
    "    axes[2].set_ylim(0, 1)\n",
    "    axes[2].set_ylabel(\"Score\")\n",
    "    \n",
    "    plt.tight_layout()\n",
    "    plt.show()\n",
    "\n",
    "def visualise(final_dataset):\n",
    "    X = final_dataset.iloc[:, 1:].values\n",
    "    y = np.random.randint(0, 2, size=len(X))\n",
    "    \n",
    "    X_train, X_test, y_train, y_test = train_test_split(X, y, test_size=0.2, random_state=42)\n",
    "    \n",
    "    svm_model = SVC()\n",
    "    svm_model.fit(X_train, y_train)\n",
    "    y_pred_svm = svm_model.predict(X_test)\n",
    "    \n",
    "    knn_model = KNeighborsClassifier(n_neighbors=5)\n",
    "    knn_model.fit(X_train, y_train)\n",
    "    y_pred_knn = knn_model.predict(X_test)\n",
    "    \n",
    "    visualize_model_performance(y_test, y_pred_svm, y_pred_knn)\n",
    "    \n",
    "    return svm_model, knn_model"
   ]
  },
  {
   "cell_type": "markdown",
   "metadata": {},
   "source": [
    "### Getting movie recommendation on the input movie"
   ]
  },
  {
   "cell_type": "code",
   "execution_count": 6,
   "metadata": {},
   "outputs": [],
   "source": [
    "def get_movie_recommendation(movie_name, movies, final_dataset, knn, csr_data, n_movies_to_recommend=10):\n",
    "    list_of_all_titles = movies['title'].tolist()\n",
    "    closest_match = difflib.get_close_matches(movie_name, list_of_all_titles, n=1)\n",
    "    \n",
    "    if not closest_match:\n",
    "        print(\"No matching movie found. Please check your input.\")\n",
    "        return None\n",
    "    \n",
    "    selected_movie = closest_match[0]\n",
    "    movie_idx = movies[movies['title'] == selected_movie]['movieId'].values[0]\n",
    "    \n",
    "    if movie_idx not in final_dataset['movieId'].values:\n",
    "        print(\"Movie not found in dataset for recommendations.\")\n",
    "        return None\n",
    "    \n",
    "    movie_matrix_idx = final_dataset[final_dataset['movieId'] == movie_idx].index[0]\n",
    "    distances, indices = knn.kneighbors(csr_data[movie_matrix_idx], n_neighbors=n_movies_to_recommend+1)    \n",
    "    rec_movie_indices = sorted(list(zip(indices.squeeze().tolist(), distances.squeeze().tolist())), \n",
    "                                key=lambda x: x[1])[:0:-1]\n",
    "    \n",
    "    recommend_frame = []\n",
    "    similarities = []\n",
    "    \n",
    "    for val in rec_movie_indices:\n",
    "        rec_movie_id = final_dataset.iloc[val[0]]['movieId']\n",
    "        idx = movies[movies['movieId'] == rec_movie_id].index[0]\n",
    "        similarities.append(val[1])\n",
    "        recommend_frame.append({'Title': movies.iloc[idx]['title'], 'Distance': val[1]})\n",
    "    \n",
    "    df = pd.DataFrame(recommend_frame, index=range(1, n_movies_to_recommend+1))\n",
    "    \n",
    "    try:\n",
    "        res = statistics.variance(similarities)\n",
    "        print(f\"Variance of recommendation similarities: {res:.4f}\")\n",
    "    except statistics.StatisticsError:\n",
    "        print(\"Not enough data to calculate variance.\")\n",
    "    \n",
    "    return df"
   ]
  },
  {
   "cell_type": "code",
   "execution_count": 7,
   "metadata": {},
   "outputs": [
    {
     "name": "stdout",
     "output_type": "stream",
     "text": [
      "SVM model -: \n",
      "Precision: 0.4786, Recall: 0.5716, Accuracy_score : 0.4828\n",
      "\n",
      "\n",
      "K-NN model -:\n",
      "Precision: 0.4970, Recall: 0.5204, Accuracy_score : 0.5049\n",
      "\n",
      "\n"
     ]
    },
    {
     "data": {
      "image/png": "[encoded data removed]",
      "text/plain": [
       "<Figure size 1800x500 with 5 Axes>"
      ]
     },
     "metadata": {},
     "output_type": "display_data"
    },
    {
     "name": "stdout",
     "output_type": "stream",
     "text": [
      "Variance of recommendation similarities: 0.0016\n",
      "\n",
      "Recommended Movies:\n",
      "                      Title  Distance\n",
      "1         Zombieland (2009)  0.398180\n",
      "2          Inception (2010)  0.393521\n",
      "3        I Am Legend (2007)  0.389856\n",
      "4      Hangover, The (2009)  0.364190\n",
      "5   Dark Knight, The (2008)  0.358937\n",
      "6      Kung Fu Panda (2008)  0.358604\n",
      "7           Iron Man (2008)  0.310893\n",
      "8         District 9 (2009)  0.309947\n",
      "9             WALL·E (2008)  0.306969\n",
      "10                Up (2009)  0.289607\n",
      "\n",
      "\n",
      "No matching movie found. Please check your input.\n",
      "\n",
      "\n",
      "Variance of recommendation similarities: 0.0016\n",
      "\n",
      "Recommended Movies:\n",
      "                      Title  Distance\n",
      "1         Zombieland (2009)  0.398180\n",
      "2          Inception (2010)  0.393521\n",
      "3        I Am Legend (2007)  0.389856\n",
      "4      Hangover, The (2009)  0.364190\n",
      "5   Dark Knight, The (2008)  0.358937\n",
      "6      Kung Fu Panda (2008)  0.358604\n",
      "7           Iron Man (2008)  0.310893\n",
      "8         District 9 (2009)  0.309947\n",
      "9             WALL·E (2008)  0.306969\n",
      "10                Up (2009)  0.289607\n",
      "\n",
      "\n",
      "Variance of recommendation similarities: 0.0015\n",
      "\n",
      "Recommended Movies:\n",
      "                               Title  Distance\n",
      "1             Sherlock Holmes (2009)  0.402911\n",
      "2                    Deadpool (2016)  0.398876\n",
      "3     Guardians of the Galaxy (2014)  0.393592\n",
      "4                     Skyfall (2012)  0.388467\n",
      "5   Grand Budapest Hotel, The (2014)  0.378759\n",
      "6            Django Unchained (2012)  0.353634\n",
      "7                Interstellar (2014)  0.338903\n",
      "8                   Inception (2010)  0.335075\n",
      "9            Dark Knight, The (2008)  0.308688\n",
      "10              Avengers, The (2012)  0.293238\n",
      "\n",
      "\n"
     ]
    }
   ],
   "source": [
    "def main():\n",
    "    movies, ratings, final_dataset = load_and_preprocess_data()\n",
    "    \n",
    "    if movies is None or ratings is None or final_dataset is None:\n",
    "        return\n",
    "    \n",
    "    knn, csr_data = create_recommendation_model(final_dataset)\n",
    "    \n",
    "    train_models(final_dataset)\n",
    "    visualise(final_dataset)\n",
    "    \n",
    "    while True:\n",
    "        movie_name = input('Enter your favorite movie name (or \"quit\" to exit): ')\n",
    "        \n",
    "        if movie_name.lower() == 'quit':\n",
    "            break\n",
    "        \n",
    "        recommendations = get_movie_recommendation(movie_name, movies, final_dataset, knn, csr_data)\n",
    "        \n",
    "        if recommendations is not None:\n",
    "            print(\"\\nRecommended Movies:\")\n",
    "            print(recommendations)\n",
    "        \n",
    "        print(\"\\n\")\n",
    "\n",
    "if __name__ == \"__main__\":\n",
    "    main()"
   ]
  }
 ],
 "metadata": {
  "kernelspec": {
   "display_name": "Python 3",
   "language": "python",
   "name": "python3"
  },
  "language_info": {
   "codemirror_mode": {
    "name": "ipython",
    "version": 3
   },
   "file_extension": ".py",
   "mimetype": "text/x-python",
   "name": "python",
   "nbconvert_exporter": "python",
   "pygments_lexer": "ipython3",
   "version": "3.12.1"
  }
 },
 "nbformat": 4,
 "nbformat_minor": 2
}
